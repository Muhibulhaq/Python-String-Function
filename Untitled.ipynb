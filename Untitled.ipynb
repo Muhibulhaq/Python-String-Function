{
 "cells": [
  {
   "cell_type": "markdown",
   "metadata": {},
   "source": [
    "# Python Strings Class Method\n"
   ]
  },
  {
   "cell_type": "code",
   "execution_count": 1,
   "metadata": {},
   "outputs": [],
   "source": [
    "name =\" Muhammad Muhib \"\n"
   ]
  },
  {
   "cell_type": "code",
   "execution_count": 2,
   "metadata": {},
   "outputs": [
    {
     "name": "stdout",
     "output_type": "stream",
     "text": [
      " Muhammad Muhib \n"
     ]
    }
   ],
   "source": [
    "print(name)"
   ]
  },
  {
   "cell_type": "markdown",
   "metadata": {},
   "source": [
    "# 1.string.capitalize()\n",
    "It returns a copy of the string with only its first character capitalized.\n",
    "\n",
    "# Syntax: string.capitalize()\n"
   ]
  },
  {
   "cell_type": "code",
   "execution_count": 3,
   "metadata": {},
   "outputs": [
    {
     "data": {
      "text/plain": [
       "' muhammad muhib '"
      ]
     },
     "execution_count": 3,
     "metadata": {},
     "output_type": "execute_result"
    }
   ],
   "source": [
    "name.capitalize()"
   ]
  },
  {
   "cell_type": "markdown",
   "metadata": {},
   "source": [
    "# 2.string.center()\n",
    "\n",
    "It returns a copy of the string with only its first character capitalized.\n",
    "\n",
    "# Syntax : string.center(width[, fillchar])\n",
    "-  width - length of the string with padded characters\n",
    "-  fillchar (optional) - padding character"
   ]
  },
  {
   "cell_type": "code",
   "execution_count": 7,
   "metadata": {},
   "outputs": [
    {
     "data": {
      "text/plain": [
       "'!! Muhammad Muhib !!'"
      ]
     },
     "execution_count": 7,
     "metadata": {},
     "output_type": "execute_result"
    }
   ],
   "source": [
    "name.center(20,'!')"
   ]
  },
  {
   "cell_type": "markdown",
   "metadata": {},
   "source": [
    "# 3.string.count()\n",
    "The string count() method returns the number of occurrences of a substring in the given string.\n",
    "\n",
    "# Syntax: string.count(substring, start=..., end=...)\n",
    "-  substring - string whose count is to be found.\n",
    "-  start (Optional) - starting index within the string where search starts.\n",
    "-  end (Optional) - ending index within the string where search ends.\n",
    "-  Note: Index in Python starts from 0, not 1"
   ]
  },
  {
   "cell_type": "code",
   "execution_count": 43,
   "metadata": {},
   "outputs": [
    {
     "data": {
      "text/plain": [
       "2"
      ]
     },
     "execution_count": 43,
     "metadata": {},
     "output_type": "execute_result"
    }
   ],
   "source": [
    "name.count('a',4,8)\n"
   ]
  },
  {
   "cell_type": "markdown",
   "metadata": {},
   "source": [
    "# 4.string.startswith() \n",
    "\n",
    "Returns a Boolean(True Or False) stating whether a string ends with the specified suffix.\n",
    "\n",
    "# Syntax: string.startswith(suffix[, start[, end]])\n",
    "\n",
    "-  suffix - Required. The substring looked for. suffix can also be a tuple of suffixes to look for.\n",
    "-  start - Optional. Specifies beginning position for the search.\n",
    "-  end - Optional. Specifies ending position for the search"
   ]
  },
  {
   "cell_type": "code",
   "execution_count": 105,
   "metadata": {
    "scrolled": true
   },
   "outputs": [
    {
     "name": "stdout",
     "output_type": "stream",
     "text": [
      "True\n",
      "True\n"
     ]
    }
   ],
   "source": [
    "print(name.endswith('Muhib',10,15))\n",
    "print(name.endswith('Muhammad',0,9))\n"
   ]
  },
  {
   "cell_type": "markdown",
   "metadata": {},
   "source": [
    "# 5.string.expandtabs()\n",
    "It returns a copy of the string in which tab characters ie. '\\t' are expanded using spaces, optionally using the given tabsize (default 8)\n",
    "\n",
    "# Syntax: str.expandtabs(space_size)\n",
    "-  sapce_size − This specifies the number of characters to be replaced for a tab character '\\t'."
   ]
  },
  {
   "cell_type": "code",
   "execution_count": 113,
   "metadata": {},
   "outputs": [
    {
     "data": {
      "text/plain": [
       "'  Muhammad  Muhib '"
      ]
     },
     "execution_count": 113,
     "metadata": {},
     "output_type": "execute_result"
    }
   ],
   "source": [
    "\"\\tMuhammad\\tMuhib\\t\".expandtabs(2)"
   ]
  },
  {
   "cell_type": "markdown",
   "metadata": {},
   "source": [
    "# 5.string.find()\n",
    "-  It determines if string str occurs in string, or in a substring of string if starting index beg and ending index end are given.\n",
    "\n",
    "# Syntax: str.find(str, beg=0, end=len(string))\n",
    "-  str − This specifies the string to be searched.\n",
    "\n",
    "-  beg − This is the starting index, by default its 0.\n",
    "\n",
    "-  end − This is the ending index, by default its equal to the length of the string"
   ]
  },
  {
   "cell_type": "code",
   "execution_count": 146,
   "metadata": {},
   "outputs": [
    {
     "data": {
      "text/plain": [
       "1"
      ]
     },
     "execution_count": 146,
     "metadata": {},
     "output_type": "execute_result"
    }
   ],
   "source": [
    "name.find(\"Muhammad\",0)"
   ]
  },
  {
   "cell_type": "markdown",
   "metadata": {},
   "source": [
    "# 6.String.format()\n",
    "-  str.format() is one of the string formatting methods in Python3, which allows multiple substitutions and value formatting.\n",
    "This method lets us concatenate elements within a string through positional formatting.\n",
    "\n",
    "#  Syntax: string..format(value) \n",
    "-  (value) : Can be an integer, floating point numeric constant, string, characters or even variables."
   ]
  },
  {
   "cell_type": "code",
   "execution_count": 161,
   "metadata": {},
   "outputs": [
    {
     "name": "stdout",
     "output_type": "stream",
     "text": [
      "Muhammad Muhib Ul HAaq\n"
     ]
    }
   ],
   "source": [
    "my_name = \"Muhammad Muhib {} {}\"\n",
    "print(my_name.format(\"Ul\",\"HAaq\"))"
   ]
  },
  {
   "cell_type": "code",
   "execution_count": 170,
   "metadata": {},
   "outputs": [
    {
     "data": {
      "text/plain": [
       "10"
      ]
     },
     "execution_count": 170,
     "metadata": {},
     "output_type": "execute_result"
    }
   ],
   "source": [
    "name.index('Muhib')"
   ]
  },
  {
   "cell_type": "markdown",
   "metadata": {},
   "source": [
    "# 7.String.isalnum()\n",
    "-  The isalnum() method returns True if all characters in the string are alphanumeric (either alphabets or numbers). If not, it returns False.\n",
    "\n",
    "# Syntax: string.isalnum()"
   ]
  },
  {
   "cell_type": "code",
   "execution_count": 174,
   "metadata": {},
   "outputs": [
    {
     "data": {
      "text/plain": [
       "False"
      ]
     },
     "execution_count": 174,
     "metadata": {},
     "output_type": "execute_result"
    }
   ],
   "source": [
    "name.isalnum()\n"
   ]
  },
  {
   "cell_type": "markdown",
   "metadata": {},
   "source": [
    "# 7.String.isalpha()\n",
    "-  In Python, isalpha() is a built-in method used for string handling.\n",
    "-  The isalpha() methods returns “True” if all characters in the string are alphabets, Otherwise, It returns “False”.\n",
    "\n",
    "# Syntax: string.isalha()"
   ]
  },
  {
   "cell_type": "code",
   "execution_count": 180,
   "metadata": {},
   "outputs": [
    {
     "data": {
      "text/plain": [
       "False"
      ]
     },
     "execution_count": 180,
     "metadata": {},
     "output_type": "execute_result"
    }
   ],
   "source": [
    "name.isalpha()"
   ]
  },
  {
   "cell_type": "markdown",
   "metadata": {},
   "source": [
    "# 8.String.isdigit()\n",
    "-  In Python, isdigit() is a built-in method used for string handling.\n",
    "-  The isdigit() methods returns “True” if all characters in the string are digits, Otherwise, It returns “False”.\n",
    "\n",
    "# Syntax: string.isdigit()\n"
   ]
  },
  {
   "cell_type": "code",
   "execution_count": 186,
   "metadata": {},
   "outputs": [
    {
     "data": {
      "text/plain": [
       "False"
      ]
     },
     "execution_count": 186,
     "metadata": {},
     "output_type": "execute_result"
    }
   ],
   "source": [
    "name.isdigit()"
   ]
  },
  {
   "cell_type": "markdown",
   "metadata": {},
   "source": [
    "# 9.String.islower()\n",
    "-  The method islower() checks whether all the case-based characters (letters) of the string are lowercase.\n",
    "\n",
    "# Syntax: string.islower() "
   ]
  },
  {
   "cell_type": "code",
   "execution_count": 187,
   "metadata": {},
   "outputs": [
    {
     "data": {
      "text/plain": [
       "False"
      ]
     },
     "execution_count": 187,
     "metadata": {},
     "output_type": "execute_result"
    }
   ],
   "source": [
    "name.islower()"
   ]
  },
  {
   "cell_type": "markdown",
   "metadata": {},
   "source": [
    "# 10.string.isspace()\n",
    "-  The method isspace() checks whether the string consists of whitespace.\n",
    "-  This method returns true if there are only whitespace characters in the string and there is at least one character,\n",
    "   false otherwise.\n",
    "\n",
    "Example\n",
    "\n",
    "# Syntax: string.isspace()"
   ]
  },
  {
   "cell_type": "code",
   "execution_count": 190,
   "metadata": {},
   "outputs": [
    {
     "data": {
      "text/plain": [
       "False"
      ]
     },
     "execution_count": 190,
     "metadata": {},
     "output_type": "execute_result"
    }
   ],
   "source": [
    "name.isspace()"
   ]
  },
  {
   "cell_type": "markdown",
   "metadata": {},
   "source": [
    "# 11.string.istitle()\n",
    "-  This method returns true if the string is a titlecased string and there is at least one character, for example uppercase characters may only follow uncased characters and lowercase characters only cased ones.It returns false otherwise.\n",
    "\n",
    "# Syntax: string.istitle()\n"
   ]
  },
  {
   "cell_type": "code",
   "execution_count": 192,
   "metadata": {},
   "outputs": [
    {
     "data": {
      "text/plain": [
       "True"
      ]
     },
     "execution_count": 192,
     "metadata": {},
     "output_type": "execute_result"
    }
   ],
   "source": [
    "name.istitle()"
   ]
  },
  {
   "cell_type": "markdown",
   "metadata": {},
   "source": [
    "# 12.string.isupper()\n",
    "-  The method isupper() checks whether all the case-based characters (letters) of the string are uppercase.\n",
    "\n",
    "# Syntax: string.isupper()"
   ]
  },
  {
   "cell_type": "code",
   "execution_count": 193,
   "metadata": {},
   "outputs": [
    {
     "data": {
      "text/plain": [
       "False"
      ]
     },
     "execution_count": 193,
     "metadata": {},
     "output_type": "execute_result"
    }
   ],
   "source": [
    "name.isupper()"
   ]
  },
  {
   "cell_type": "markdown",
   "metadata": {},
   "source": [
    "# 13.sequence.join(string)\n",
    "-  The method join() returns a string in which the string elements of sequence have been joined by str separato\n",
    "\n",
    "# Syntax: sequence.join(string)\n",
    "-  sequence − This is a sequence of the elements to be joined"
   ]
  },
  {
   "cell_type": "code",
   "execution_count": 201,
   "metadata": {},
   "outputs": [
    {
     "data": {
      "text/plain": [
       "'M-u-h-a-m-m-a-d-M-u-h-i-b-U-l-H-a-q'"
      ]
     },
     "execution_count": 201,
     "metadata": {},
     "output_type": "execute_result"
    }
   ],
   "source": [
    "seq = \"-\"\n",
    "my_name=\"MuhammadMuhibUlHaq\"\n",
    "seq.join(my_name)"
   ]
  },
  {
   "cell_type": "markdown",
   "metadata": {},
   "source": [
    "# 14.string.ljust(width[, fillchar])\n",
    "\n",
    "-  The method ljust() returns the string left justified in a string of length width. Padding is done using the  specified          fillchar (default is a space). The original string is returned if width is less than len(s).\n",
    "\n",
    "# Syntax: string.ljust(width[, fillchar])\n",
    "-  width − This is string length in total after padding.\n",
    "\n",
    "-  fillchar − This is filler character, default is a space.\n",
    "\n"
   ]
  },
  {
   "cell_type": "code",
   "execution_count": 203,
   "metadata": {},
   "outputs": [
    {
     "data": {
      "text/plain": [
       "' Muhammad Muhib 00000000000000'"
      ]
     },
     "execution_count": 203,
     "metadata": {},
     "output_type": "execute_result"
    }
   ],
   "source": [
    "name.ljust(30,'0')"
   ]
  },
  {
   "cell_type": "code",
   "execution_count": 4,
   "metadata": {},
   "outputs": [
    {
     "data": {
      "text/plain": [
       "'muhammad'"
      ]
     },
     "execution_count": 4,
     "metadata": {},
     "output_type": "execute_result"
    }
   ],
   "source": [
    "my_name.lower()\n"
   ]
  },
  {
   "cell_type": "code",
   "execution_count": 6,
   "metadata": {},
   "outputs": [],
   "source": [
    "name =\" Muhammad Muhib \"\n"
   ]
  },
  {
   "cell_type": "code",
   "execution_count": 8,
   "metadata": {},
   "outputs": [
    {
     "name": "stdout",
     "output_type": "stream",
     "text": [
      " Muhammad Muhib \n"
     ]
    }
   ],
   "source": [
    "print(name)"
   ]
  },
  {
   "cell_type": "markdown",
   "metadata": {},
   "source": [
    "# 15.string.lower()\n",
    "-  The string lower() method converts all uppercase characters in a string into lowercase characters and returns it.\n",
    "\n",
    "# Syntax: string.lower()\n"
   ]
  },
  {
   "cell_type": "code",
   "execution_count": 7,
   "metadata": {},
   "outputs": [
    {
     "data": {
      "text/plain": [
       "' muhammad muhib '"
      ]
     },
     "execution_count": 7,
     "metadata": {},
     "output_type": "execute_result"
    }
   ],
   "source": [
    "name.lower()"
   ]
  },
  {
   "cell_type": "code",
   "execution_count": 9,
   "metadata": {},
   "outputs": [
    {
     "name": "stdout",
     "output_type": "stream",
     "text": [
      " Muhammad Muhib \n"
     ]
    }
   ],
   "source": [
    "print(name)"
   ]
  },
  {
   "cell_type": "markdown",
   "metadata": {},
   "source": [
    "# 16.string.lstrip()\n",
    "-  The lstrip() method returns a copy of the string with leading characters removed (based on the string argument passed).\n",
    "\n",
    "# Syntax: string.lstrip([chars])\n",
    "-  chars (optional) - a string specifying the set of characters to be removed."
   ]
  },
  {
   "cell_type": "code",
   "execution_count": 10,
   "metadata": {},
   "outputs": [
    {
     "data": {
      "text/plain": [
       "'Muhammad Muhib '"
      ]
     },
     "execution_count": 10,
     "metadata": {},
     "output_type": "execute_result"
    }
   ],
   "source": [
    "name.lstrip()"
   ]
  },
  {
   "cell_type": "code",
   "execution_count": 12,
   "metadata": {},
   "outputs": [
    {
     "data": {
      "text/plain": [
       "'Muhammad Muhib--'"
      ]
     },
     "execution_count": 12,
     "metadata": {},
     "output_type": "execute_result"
    }
   ],
   "source": [
    "my_name = \"--Muhammad Muhib--\"\n",
    "my_name.lstrip(\"-\")"
   ]
  },
  {
   "cell_type": "code",
   "execution_count": 18,
   "metadata": {},
   "outputs": [
    {
     "data": {
      "text/plain": [
       "(' ', 'M', 'uhammad Muhib ')"
      ]
     },
     "execution_count": 18,
     "metadata": {},
     "output_type": "execute_result"
    }
   ],
   "source": [
    "name.partition('M')"
   ]
  },
  {
   "cell_type": "code",
   "execution_count": null,
   "metadata": {},
   "outputs": [],
   "source": []
  }
 ],
 "metadata": {
  "kernelspec": {
   "display_name": "Python 2",
   "language": "python",
   "name": "python2"
  },
  "language_info": {
   "codemirror_mode": {
    "name": "ipython",
    "version": 2
   },
   "file_extension": ".py",
   "mimetype": "text/x-python",
   "name": "python",
   "nbconvert_exporter": "python",
   "pygments_lexer": "ipython2",
   "version": "2.7.15"
  }
 },
 "nbformat": 4,
 "nbformat_minor": 2
}
